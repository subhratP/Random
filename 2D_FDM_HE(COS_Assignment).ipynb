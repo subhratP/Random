{
 "cells": [
  {
   "cell_type": "code",
   "execution_count": 1,
   "metadata": {},
   "outputs": [],
   "source": [
    "# importing librarires\n",
    "import numpy as np\n",
    "import matplotlib.pyplot as plt\n",
    "import matplotlib.animation as animation\n",
    "from matplotlib.animation import PillowWriter\n",
    "\n",
    "# importing FuncAnimation function for matplotlib source\n",
    "\n",
    "from matplotlib.animation import FuncAnimation"
   ]
  },
  {
   "cell_type": "code",
   "execution_count": 2,
   "metadata": {},
   "outputs": [
    {
     "name": "stdout",
     "output_type": "stream",
     "text": [
      "0.12499999999999997\n",
      "0.25\n"
     ]
    }
   ],
   "source": [
    "# setting up parameter space\n",
    "\n",
    "side_len = 100\n",
    "end_time = 1000\n",
    "\n",
    "c = 2 ** .5\n",
    "grid_size = 1   # we take grid size equal in both spatial dimensions\n",
    "\n",
    "step_size = (grid_size ** 2)/(4 * c ** 2)\n",
    "gamma = ((c ** 2) * step_size) / (grid_size ** 2)\n",
    "\n",
    "print(step_size)\n",
    "print(gamma)"
   ]
  },
  {
   "cell_type": "code",
   "execution_count": 3,
   "metadata": {},
   "outputs": [],
   "source": [
    "# Initialize solution as u[k, i, j]\n",
    "u = np.empty((end_time, side_len, side_len))\n",
    "\n",
    "# initialising every interior point as 0\n",
    "u_0 = 0\n",
    "\n",
    "# Boundary conditions\n",
    "u_uwall = 350.0\n",
    "u_in = 500.0\n",
    "u_lwall = 425.0\n",
    "u_out = 250.0\n",
    "\n",
    "# Set the initial condition\n",
    "u.fill(u_0)\n",
    "\n",
    "# Set the boundary conditions\n",
    "u[:, (side_len-1), :] = u_uwall\n",
    "u[:, :, :1] = u_in\n",
    "u[:, :1, 1:] = u_lwall\n",
    "u[:, :, (side_len-1):] = u_out\n",
    "\n"
   ]
  },
  {
   "cell_type": "code",
   "execution_count": 5,
   "metadata": {},
   "outputs": [
    {
     "data": {
      "image/png": "[encoded data removed]",
      "text/plain": [
       "<Figure size 432x288 with 2 Axes>"
      ]
     },
     "metadata": {
      "needs_background": "light"
     },
     "output_type": "display_data"
    }
   ],
   "source": [
    "def calculate(u):\n",
    "    for k in range(0, end_time-1, 1):\n",
    "        for i in range(1, side_len-1, grid_size):\n",
    "            for j in range(1, side_len-1, grid_size):\n",
    "                u[k + 1, i, j] = gamma * (u[k][i+1][j] + u[k][i-1][j] + u[k][i][j+1] + u[k][i][j-1] - 4*u[k][i][j]) + u[k][i][j]\n",
    "\n",
    "    return u\n",
    "\n",
    "def heatmap(u_k, k):\n",
    "    plt.clf()\n",
    "\n",
    "    plt.title(f\"Temperature at t = {k*step_size:.3f} unit time\")\n",
    "    plt.xlabel(\"x\")\n",
    "    plt.ylabel(\"y\")\n",
    "\n",
    "    plt.pcolormesh(u_k, cmap=plt.cm.jet, vmin=0, vmax=500)\n",
    "    plt.colorbar()\n",
    "\n",
    "    return plt\n",
    "\n",
    "# calculation step\n",
    "u = calculate(u)\n",
    "\n",
    "def animate(k):\n",
    "    heatmap(u[k], k)\n",
    "\n",
    "anim = animation.FuncAnimation(plt.figure(), animate, interval=step_size, frames=end_time, repeat=False)\n",
    "\n",
    "\n",
    "my_writer=animation.PillowWriter(fps=20, codec='libx264', bitrate=500)\n",
    "\n",
    "anim.save(filename='gif_test.gif', writer=my_writer)\n",
    "plt.show()\n",
    "# anim.save(\"heat_equation_solution.mp4\")"
   ]
  },
  {
   "cell_type": "code",
   "execution_count": 6,
   "metadata": {},
   "outputs": [],
   "source": [
    "# importing librarires\n",
    "import numpy as np\n",
    "import matplotlib.pyplot as plt\n",
    "import matplotlib.animation as animation\n",
    "from matplotlib.animation import PillowWriter\n",
    "\n",
    "# importing FuncAnimation function for matplotlib source\n",
    "\n",
    "from matplotlib.animation import FuncAnimation"
   ]
  },
  {
   "cell_type": "code",
   "execution_count": 7,
   "metadata": {},
   "outputs": [
    {
     "name": "stdout",
     "output_type": "stream",
     "text": [
      "0.12499999999999997\n",
      "0.25\n"
     ]
    }
   ],
   "source": [
    "# setting up parameter space\n",
    "\n",
    "side_len = 100\n",
    "end_time = 1000\n",
    "\n",
    "c = 2 ** .5\n",
    "grid_size = 1   # we take grid size equal in both spatial dimensions\n",
    "\n",
    "step_size = (grid_size ** 2)/(4 * c ** 2)\n",
    "gamma = ((c ** 2) * step_size) / (grid_size ** 2)\n",
    "\n",
    "print(step_size)\n",
    "print(gamma)"
   ]
  },
  {
   "cell_type": "code",
   "execution_count": 8,
   "metadata": {},
   "outputs": [],
   "source": [
    "# Initialize solution as u[k, i, j]\n",
    "u = np.empty((end_time, side_len, side_len))\n",
    "\n",
    "# initialising every interior point as 0\n",
    "u_0 = 0\n",
    "\n",
    "# Boundary conditions\n",
    "u_out = 500.0\n",
    "u_in = 250.0\n",
    "\n",
    "# Set the initial condition\n",
    "u.fill(u_0)\n",
    "\n",
    "# Set the boundary conditions\n",
    "u[:, (side_len-1), :] = u[:, (side_len-2), :]\n",
    "u[:, :, :1] = u_out\n",
    "u[:, 0, 1:] = u[:, 1, 1:]\n",
    "u[:, :, (side_len-1):] = u_in"
   ]
  },
  {
   "cell_type": "code",
   "execution_count": null,
   "metadata": {},
   "outputs": [
    {
     "name": "stdout",
     "output_type": "stream",
     "text": [
      "3.9206652019701247\n"
     ]
    }
   ],
   "source": [
    "def calculate(u):\n",
    "    for k in range(0, end_time-1, 1):\n",
    "        for i in range(0, side_len-1, grid_size):\n",
    "            for j in range(0, side_len-1, grid_size):\n",
    "                u[k + 1, i, j] = gamma * (u[k][i+1][j] + u[k][i-1][j] + u[k][i][j+1] + u[k][i][j-1] - 4*u[k][i][j]) + u[k][i][j]\n",
    "\n",
    "    return u\n",
    "\n",
    "def heatmap(u_k, k):\n",
    "    plt.clf()\n",
    "\n",
    "    plt.title(f\"Temperature at t = {k*step_size:.3f} unit time\")\n",
    "    plt.xlabel(\"x\")\n",
    "    plt.ylabel(\"y\")\n",
    "\n",
    "    plt.pcolormesh(u_k, cmap=plt.cm.jet, vmin=0, vmax=500)\n",
    "    plt.colorbar()\n",
    "\n",
    "    return plt\n",
    "\n",
    "# calculation step\n",
    "u = calculate(u)\n",
    "\n",
    "print(u[28, 0, 7])\n",
    "\n",
    "def animate(k):\n",
    "    heatmap(u[k], k)\n",
    "\n",
    "anim = animation.FuncAnimation(plt.figure(), animate, interval=1, frames=end_time, repeat=False)\n",
    "\n",
    "\n",
    "my_writer=animation.PillowWriter(fps=20, codec='libx264', bitrate=500)\n",
    "\n",
    "anim.save(filename='gif_test1.gif', writer=my_writer)\n",
    "plt.show()\n",
    "# anim.save(\"heat_equation_solution2.mp4\")"
   ]
  },
  {
   "cell_type": "code",
   "execution_count": null,
   "metadata": {},
   "outputs": [],
   "source": []
  }
 ],
 "metadata": {
  "kernelspec": {
   "display_name": "Python 3",
   "language": "python",
   "name": "python3"
  },
  "language_info": {
   "codemirror_mode": {
    "name": "ipython",
    "version": 3
   },
   "file_extension": ".py",
   "mimetype": "text/x-python",
   "name": "python",
   "nbconvert_exporter": "python",
   "pygments_lexer": "ipython3",
   "version": "3.8.3"
  }
 },
 "nbformat": 4,
 "nbformat_minor": 4
}
