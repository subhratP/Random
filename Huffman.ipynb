{
 "cells": [
  {
   "cell_type": "code",
   "execution_count": 6,
   "metadata": {},
   "outputs": [],
   "source": [
    "import math\n",
    "import sys\n",
    "global probabilities\n",
    "probabilities = []"
   ]
  },
  {
   "cell_type": "code",
   "execution_count": 7,
   "metadata": {},
   "outputs": [],
   "source": [
    "class HuffmanCode:\n",
    "    def __init__(self,probability):\n",
    "        self.probability = probability\n",
    "\n",
    "    def position(self, value, index):\n",
    "        for j in range(len(self.probability)):\n",
    "            if(value >= self.probability[j]):\n",
    "                return j\n",
    "        return index-1\n",
    "\n",
    "    def characteristics_huffman_code(self, code):\n",
    "        length_of_code = [len(k) for k in code]\n",
    "\n",
    "        entropy_of_code = \n",
    "        mean_length = sum([a*b for a, b in zip(length_of_code, self.probability)])\n",
    "\n",
    "        print(\"Average length of the code: %f\" % mean_length)\n",
    "        print(\"Efficiency of the code: %f\" % (entropy_of_code/mean_length))\n",
    "\n",
    "    def compute_code(self):\n",
    "        num = len(self.probability)\n",
    "        huffman_code = ['']*num\n",
    "\n",
    "        for i in range(num-2):\n",
    "            val = self.probability[num-i-1] + self.probability[num-i-2]\n",
    "            if(huffman_code[num-i-1] != '' and huffman_code[num-i-2] != ''):\n",
    "                huffman_code[-1] = ['1' + symbol for symbol in huffman_code[-1]]\n",
    "                huffman_code[-2] = ['0' + symbol for symbol in huffman_code[-2]]\n",
    "            elif(huffman_code[num-i-1] != ''):\n",
    "                huffman_code[num-i-2] = '0'\n",
    "                huffman_code[-1] = ['1' + symbol for symbol in huffman_code[-1]]\n",
    "            elif(huffman_code[num-i-2] != ''):\n",
    "                huffman_code[num-i-1] = '1'\n",
    "                huffman_code[-2] = ['0' + symbol for symbol in huffman_code[-2]]\n",
    "            else:\n",
    "                huffman_code[num-i-1] = '1'\n",
    "                huffman_code[num-i-2] = '0'\n",
    "\n",
    "            position = self.position(val, i)\n",
    "            probability = self.probability[0:(len(self.probability) - 2)]\n",
    "            probability.insert(position, val)\n",
    "            if(isinstance(huffman_code[num-i-2], list) and isinstance(huffman_code[num-i-1], list)):\n",
    "                complete_code = huffman_code[num-i-1] + huffman_code[num-i-2]\n",
    "            elif(isinstance(huffman_code[num-i-2], list)):\n",
    "                complete_code = huffman_code[num-i-2] + [huffman_code[num-i-1]]\n",
    "            elif(isinstance(huffman_code[num-i-1], list)):\n",
    "                complete_code = huffman_code[num-i-1] + [huffman_code[num-i-2]]\n",
    "            else:\n",
    "                complete_code = [huffman_code[num-i-2], huffman_code[num-i-1]]\n",
    "\n",
    "            huffman_code = huffman_code[0:(len(huffman_code)-2)]\n",
    "            huffman_code.insert(position, complete_code)\n",
    "\n",
    "        huffman_code[0] = ['0' + symbol for symbol in huffman_code[0]]\n",
    "        huffman_code[1] = ['1' + symbol for symbol in huffman_code[1]]\n",
    "\n",
    "        if(len(huffman_code[1]) == 0):\n",
    "            huffman_code[1] = '1'\n",
    "\n",
    "        count = 0\n",
    "        final_code = ['']*num\n",
    "\n",
    "        for i in range(2):\n",
    "            for j in range(len(huffman_code[i])):\n",
    "                final_code[count] = huffman_code[i][j]\n",
    "                count += 1\n",
    "\n",
    "        final_code = sorted(final_code, key=len)\n",
    "        return final_code"
   ]
  },
  {
   "cell_type": "code",
   "execution_count": 8,
   "metadata": {},
   "outputs": [
    {
     "name": "stdout",
     "output_type": "stream",
     "text": [
      "Enter the string to compute Huffman Code: Nikhil Singh\n"
     ]
    }
   ],
   "source": [
    "string = input(\"Enter the string to compute Huffman Code: \")"
   ]
  },
  {
   "cell_type": "code",
   "execution_count": 13,
   "metadata": {},
   "outputs": [
    {
     "name": "stdout",
     "output_type": "stream",
     "text": [
      " Char | Huffman code \n",
      "----------------------\n",
      " 'i'  |           1\n",
      " 'h'  |          00\n",
      " 'N'  |        0111\n",
      " 'k'  |       01100\n",
      " 'l'  |       01101\n",
      " ' '  |       01010\n",
      " 'S'  |       01011\n",
      " 'n'  |       01000\n",
      " 'g'  |       01001\n"
     ]
    }
   ],
   "source": [
    "freq = {}\n",
    "for c in string:\n",
    "    if c in freq:\n",
    "        freq[c] += 1\n",
    "    else:\n",
    "        freq[c] = 1\n",
    "\n",
    "freq = sorted(freq.items(), key=lambda x: x[1], reverse=True)\n",
    "length = len(string)\n",
    "\n",
    "probabilities = [float(\"{:.2f}\".format(frequency[1]/length)) for frequency in freq]\n",
    "probabilities = sorted(probabilities, reverse=True)\n",
    "\n",
    "huffmanClassObject = HuffmanCode(probabilities)\n",
    "P = probabilities\n",
    "\n",
    "huffman_code = huffmanClassObject.compute_code()\n",
    "\n",
    "print(' Char | Huffman code ')\n",
    "print('----------------------')\n",
    "\n",
    "for id,char in enumerate(freq):\n",
    "    if huffman_code[id]=='':\n",
    "        print(' %-4r |%12s' % (char[0], 1))\n",
    "        continue\n",
    "    print(' %-4r |%12s' % (char[0], huffman_code[id]))       "
   ]
  },
  {
   "cell_type": "code",
   "execution_count": null,
   "metadata": {},
   "outputs": [],
   "source": []
  }
 ],
 "metadata": {
  "kernelspec": {
   "display_name": "Python 3",
   "language": "python",
   "name": "python3"
  },
  "language_info": {
   "codemirror_mode": {
    "name": "ipython",
    "version": 3
   },
   "file_extension": ".py",
   "mimetype": "text/x-python",
   "name": "python",
   "nbconvert_exporter": "python",
   "pygments_lexer": "ipython3",
   "version": "3.8.3"
  }
 },
 "nbformat": 4,
 "nbformat_minor": 4
}
